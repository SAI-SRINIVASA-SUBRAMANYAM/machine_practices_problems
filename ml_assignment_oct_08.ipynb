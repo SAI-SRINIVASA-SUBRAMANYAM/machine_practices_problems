{
  "nbformat": 4,
  "nbformat_minor": 0,
  "metadata": {
    "colab": {
      "provenance": [],
      "collapsed_sections": []
    },
    "kernelspec": {
      "name": "python3",
      "display_name": "Python 3"
    },
    "language_info": {
      "name": "python"
    }
  },
  "cells": [
    {
      "cell_type": "code",
      "execution_count": 50,
      "metadata": {
        "id": "ERbIM8EDu6_j"
      },
      "outputs": [],
      "source": [
        "#imports\n",
        "\n",
        "import pandas as pd\n",
        "from scipy.stats import linregress\n",
        "import seaborn as sns\n",
        "from sklearn.metrics import mean_absolute_error, mean_squared_error, r2_score\n",
        "import math\n",
        "import numpy as np\n",
        "import matplotlib.pyplot as plt"
      ]
    },
    {
      "cell_type": "markdown",
      "source": [
        "**Q. What is Linear Regression?**\n",
        "<br />\n",
        "<br />\n",
        "Ans. Linear regression model is used to estimates the relationship between **one dependent** & **one dependent quantative** variables.\n",
        "<br />\n",
        "<br />\n",
        "Eg: Some examples are...\n",
        "<ol>\n",
        "<li> Soil Erosion Vs water fall</li>\n",
        "<li> Height Vs Shoe size</li>\n",
        "</ol>\n"
      ],
      "metadata": {
        "id": "s9d5jEiRvSmt"
      }
    },
    {
      "cell_type": "code",
      "source": [
        "# Linear regression example:\n",
        "df = pd.DataFrame([ \n",
        "    [165,36.5],\n",
        "    [168, 37], \n",
        "    [172, 39.5],\n",
        "    [174,37.5],\n",
        "    [170, 37.5],\n",
        "    [171,38], \n",
        "    [164,36], \n",
        "    [173, 38.5],\n",
        "    [169, 37],\n",
        "    [163, 37]\n",
        "    ], columns=['Height', 'ShoeSize'])"
      ],
      "metadata": {
        "id": "-Jhc0-2YxPPd"
      },
      "execution_count": 3,
      "outputs": []
    },
    {
      "cell_type": "code",
      "source": [
        "df.corr()\n",
        "# Positive correlation: If there is increase in the x (dependent) value,\n",
        "#  increase in the y (independent) value.\n",
        "# Negative/Inverse correlation: If there is decrease in the x (dependent) value,\n",
        "#  decrease in the y (independent) value."
      ],
      "metadata": {
        "colab": {
          "base_uri": "https://localhost:8080/",
          "height": 112
        },
        "id": "yuKSPF-Ox9yi",
        "outputId": "42e2276c-2aaf-4bb6-e67c-1fa04d3a75e7"
      },
      "execution_count": 4,
      "outputs": [
        {
          "output_type": "execute_result",
          "data": {
            "text/plain": [
              "            Height  ShoeSize\n",
              "Height    1.000000  0.741125\n",
              "ShoeSize  0.741125  1.000000"
            ],
            "text/html": [
              "\n",
              "  <div id=\"df-18d2eabc-7d7e-4fda-a8ec-1e71c7f20b0b\">\n",
              "    <div class=\"colab-df-container\">\n",
              "      <div>\n",
              "<style scoped>\n",
              "    .dataframe tbody tr th:only-of-type {\n",
              "        vertical-align: middle;\n",
              "    }\n",
              "\n",
              "    .dataframe tbody tr th {\n",
              "        vertical-align: top;\n",
              "    }\n",
              "\n",
              "    .dataframe thead th {\n",
              "        text-align: right;\n",
              "    }\n",
              "</style>\n",
              "<table border=\"1\" class=\"dataframe\">\n",
              "  <thead>\n",
              "    <tr style=\"text-align: right;\">\n",
              "      <th></th>\n",
              "      <th>Height</th>\n",
              "      <th>ShoeSize</th>\n",
              "    </tr>\n",
              "  </thead>\n",
              "  <tbody>\n",
              "    <tr>\n",
              "      <th>Height</th>\n",
              "      <td>1.000000</td>\n",
              "      <td>0.741125</td>\n",
              "    </tr>\n",
              "    <tr>\n",
              "      <th>ShoeSize</th>\n",
              "      <td>0.741125</td>\n",
              "      <td>1.000000</td>\n",
              "    </tr>\n",
              "  </tbody>\n",
              "</table>\n",
              "</div>\n",
              "      <button class=\"colab-df-convert\" onclick=\"convertToInteractive('df-18d2eabc-7d7e-4fda-a8ec-1e71c7f20b0b')\"\n",
              "              title=\"Convert this dataframe to an interactive table.\"\n",
              "              style=\"display:none;\">\n",
              "        \n",
              "  <svg xmlns=\"http://www.w3.org/2000/svg\" height=\"24px\"viewBox=\"0 0 24 24\"\n",
              "       width=\"24px\">\n",
              "    <path d=\"M0 0h24v24H0V0z\" fill=\"none\"/>\n",
              "    <path d=\"M18.56 5.44l.94 2.06.94-2.06 2.06-.94-2.06-.94-.94-2.06-.94 2.06-2.06.94zm-11 1L8.5 8.5l.94-2.06 2.06-.94-2.06-.94L8.5 2.5l-.94 2.06-2.06.94zm10 10l.94 2.06.94-2.06 2.06-.94-2.06-.94-.94-2.06-.94 2.06-2.06.94z\"/><path d=\"M17.41 7.96l-1.37-1.37c-.4-.4-.92-.59-1.43-.59-.52 0-1.04.2-1.43.59L10.3 9.45l-7.72 7.72c-.78.78-.78 2.05 0 2.83L4 21.41c.39.39.9.59 1.41.59.51 0 1.02-.2 1.41-.59l7.78-7.78 2.81-2.81c.8-.78.8-2.07 0-2.86zM5.41 20L4 18.59l7.72-7.72 1.47 1.35L5.41 20z\"/>\n",
              "  </svg>\n",
              "      </button>\n",
              "      \n",
              "  <style>\n",
              "    .colab-df-container {\n",
              "      display:flex;\n",
              "      flex-wrap:wrap;\n",
              "      gap: 12px;\n",
              "    }\n",
              "\n",
              "    .colab-df-convert {\n",
              "      background-color: #E8F0FE;\n",
              "      border: none;\n",
              "      border-radius: 50%;\n",
              "      cursor: pointer;\n",
              "      display: none;\n",
              "      fill: #1967D2;\n",
              "      height: 32px;\n",
              "      padding: 0 0 0 0;\n",
              "      width: 32px;\n",
              "    }\n",
              "\n",
              "    .colab-df-convert:hover {\n",
              "      background-color: #E2EBFA;\n",
              "      box-shadow: 0px 1px 2px rgba(60, 64, 67, 0.3), 0px 1px 3px 1px rgba(60, 64, 67, 0.15);\n",
              "      fill: #174EA6;\n",
              "    }\n",
              "\n",
              "    [theme=dark] .colab-df-convert {\n",
              "      background-color: #3B4455;\n",
              "      fill: #D2E3FC;\n",
              "    }\n",
              "\n",
              "    [theme=dark] .colab-df-convert:hover {\n",
              "      background-color: #434B5C;\n",
              "      box-shadow: 0px 1px 3px 1px rgba(0, 0, 0, 0.15);\n",
              "      filter: drop-shadow(0px 1px 2px rgba(0, 0, 0, 0.3));\n",
              "      fill: #FFFFFF;\n",
              "    }\n",
              "  </style>\n",
              "\n",
              "      <script>\n",
              "        const buttonEl =\n",
              "          document.querySelector('#df-18d2eabc-7d7e-4fda-a8ec-1e71c7f20b0b button.colab-df-convert');\n",
              "        buttonEl.style.display =\n",
              "          google.colab.kernel.accessAllowed ? 'block' : 'none';\n",
              "\n",
              "        async function convertToInteractive(key) {\n",
              "          const element = document.querySelector('#df-18d2eabc-7d7e-4fda-a8ec-1e71c7f20b0b');\n",
              "          const dataTable =\n",
              "            await google.colab.kernel.invokeFunction('convertToInteractive',\n",
              "                                                     [key], {});\n",
              "          if (!dataTable) return;\n",
              "\n",
              "          const docLinkHtml = 'Like what you see? Visit the ' +\n",
              "            '<a target=\"_blank\" href=https://colab.research.google.com/notebooks/data_table.ipynb>data table notebook</a>'\n",
              "            + ' to learn more about interactive tables.';\n",
              "          element.innerHTML = '';\n",
              "          dataTable['output_type'] = 'display_data';\n",
              "          await google.colab.output.renderOutput(dataTable, element);\n",
              "          const docLink = document.createElement('div');\n",
              "          docLink.innerHTML = docLinkHtml;\n",
              "          element.appendChild(docLink);\n",
              "        }\n",
              "      </script>\n",
              "    </div>\n",
              "  </div>\n",
              "  "
            ]
          },
          "metadata": {},
          "execution_count": 4
        }
      ]
    },
    {
      "cell_type": "code",
      "source": [
        "# Formulas:\n",
        "# Slope(m): n * (E(x)(y) - E(x)E(y)) / n * (E(x) * E(y))\n",
        "# intercept(b): ( E(y) * m(E(x)) ) / n\n",
        "\n",
        "lin_reg = linregress(df['Height'], df['ShoeSize'])\n",
        "print(\"result\", lin_reg)"
      ],
      "metadata": {
        "colab": {
          "base_uri": "https://localhost:8080/"
        },
        "id": "ahEZJgfS0QG5",
        "outputId": "22c760ed-858b-4aca-a756-f01cc865ff15"
      },
      "execution_count": 5,
      "outputs": [
        {
          "output_type": "stream",
          "name": "stdout",
          "text": [
            "result LinregressResult(slope=0.19525959367945825, intercept=4.470654627539503, rvalue=0.7411253770427022, pvalue=0.014178951245427696, stderr=0.06253677280900707, intercept_stderr=10.564921013099163)\n"
          ]
        }
      ]
    },
    {
      "cell_type": "code",
      "source": [
        "# Calculation of given Height, get shoe size\n",
        "# Formula: y = m x + c\n",
        "# m = slope\n",
        "# c = intercept\n",
        "# x = given height to be calculated\n",
        "\n",
        "given_height = 200\n",
        "print(lin_reg.slope * given_height + lin_reg.intercept)\n",
        "# Resultant is the approx shoe size/value with some residual"
      ],
      "metadata": {
        "colab": {
          "base_uri": "https://localhost:8080/"
        },
        "id": "J5MOPluA04PR",
        "outputId": "650b1bcd-f106-45ad-beca-df3288273d79"
      },
      "execution_count": 6,
      "outputs": [
        {
          "output_type": "stream",
          "name": "stdout",
          "text": [
            "43.52257336343115\n"
          ]
        }
      ]
    },
    {
      "cell_type": "code",
      "source": [
        "# plotting graph\n",
        "# A. Scatter plot\n",
        "sns.scatterplot(data=df, x='Height', y='ShoeSize')"
      ],
      "metadata": {
        "colab": {
          "base_uri": "https://localhost:8080/",
          "height": 296
        },
        "id": "8kB07VXu1h6N",
        "outputId": "a787a27d-6bc6-43f9-e1a4-d2d341d4c5ea"
      },
      "execution_count": 7,
      "outputs": [
        {
          "output_type": "execute_result",
          "data": {
            "text/plain": [
              "<matplotlib.axes._subplots.AxesSubplot at 0x7feba750ccd0>"
            ]
          },
          "metadata": {},
          "execution_count": 7
        },
        {
          "output_type": "display_data",
          "data": {
            "text/plain": [
              "<Figure size 432x288 with 1 Axes>"
            ],
            "image/png": "[encoded data removed]"
          },
          "metadata": {
            "needs_background": "light"
          }
        }
      ]
    },
    {
      "cell_type": "code",
      "source": [
        "# B. Regression plot\n",
        "\n",
        "sns.regplot(data=df, x='Height', y='ShoeSize')"
      ],
      "metadata": {
        "colab": {
          "base_uri": "https://localhost:8080/",
          "height": 296
        },
        "id": "yk1vvXSV2Ygb",
        "outputId": "15233753-a6be-40b2-90fe-fe9aa71c1bfe"
      },
      "execution_count": 8,
      "outputs": [
        {
          "output_type": "execute_result",
          "data": {
            "text/plain": [
              "<matplotlib.axes._subplots.AxesSubplot at 0x7feba6f293d0>"
            ]
          },
          "metadata": {},
          "execution_count": 8
        },
        {
          "output_type": "display_data",
          "data": {
            "text/plain": [
              "<Figure size 432x288 with 1 Axes>"
            ],
            "image/png": "[encoded data removed]"
          },
          "metadata": {
            "needs_background": "light"
          }
        }
      ]
    },
    {
      "cell_type": "markdown",
      "source": [
        "\n",
        "\n",
        "---\n",
        "\n"
      ],
      "metadata": {
        "id": "MqIYZsZ6M6YC"
      }
    },
    {
      "cell_type": "markdown",
      "source": [
        "**Q. How to Calculate the error in linear regression?**\n",
        "<br />\n",
        "<br />\n",
        "Ans. A difference between the predicted value and actual value is called **residual**. One of main important assumption of regression analysis is the normal distribution of residual with **mean is equal to 0**, ie., residual must be positive and negative.\n",
        "<br/>\n",
        "<b>Formula</b> RSS (Residual Sum of Squares): \n",
        "<br/>\n",
        "<h2>Calculating Residuals</h2>\n",
        "Knowing that\n",
        "i = y(i) − ^y(i)\n",
        "<br />\n",
        "^y(i) = m x + b"
      ],
      "metadata": {
        "id": "ByfsPqZv2m5d"
      }
    },
    {
      "cell_type": "code",
      "source": [
        "# Demo calculating residual value\n",
        "\n",
        "given_height = 165\n",
        "actual_shoe_size = 36.5\n",
        "r_shoe_size = lin_reg.slope * given_height + lin_reg.intercept\n",
        "print(\"Residual value:\", actual_shoe_size - r_shoe_size)"
      ],
      "metadata": {
        "colab": {
          "base_uri": "https://localhost:8080/"
        },
        "id": "PxHKbWcD2aPa",
        "outputId": "38124b29-d38e-430c-fa6d-77549bf8ca44"
      },
      "execution_count": 9,
      "outputs": [
        {
          "output_type": "stream",
          "name": "stdout",
          "text": [
            "Residual value: -0.18848758465011173\n"
          ]
        }
      ]
    },
    {
      "cell_type": "markdown",
      "source": [
        "\n",
        "\n",
        "---"
      ],
      "metadata": {
        "id": "HZnOi94aM8wv"
      }
    },
    {
      "cell_type": "markdown",
      "source": [
        "**Q. Difference between Loss and Cost function?**\n",
        "<br/>\n",
        "Ans. \n",
        "<br/>\n",
        "**Loss Function:** The Loss function quantifies how much a model function's prediction ^y = f(x) deviates from the ground truth y = y(x), we calculate loss on the single object in the training or test sets\n",
        "<br/>\n",
        "Examples:\n",
        "<ul>\n",
        "<li> MSE: Mean Square Error</li>\n",
        "<li> MAE: Mean Absolute Error</li>\n",
        "</ul>\n",
        "\n",
        "\n",
        "**Cost Function:** The cost function measure the model's error on a group of objects.\n",
        "<br/>\n",
        "Examples:\n",
        "<ul>\n",
        "<li> Average Square Loss.</li>\n",
        "</ul>\n",
        "\n",
        "**Object Functions:** The object these functions is not to minimize the cost/loss over training data, is to avoid **overfitting**"
      ],
      "metadata": {
        "id": "b0QZ4Ak8A_Jd"
      }
    },
    {
      "cell_type": "markdown",
      "source": [
        "\n",
        "\n",
        "---\n"
      ],
      "metadata": {
        "id": "TiZURb7UL_HV"
      }
    },
    {
      "cell_type": "markdown",
      "source": [
        "**Q. Difference between MSE & MAE & RMSE functions?**\n",
        "\n",
        "**Description:** \n",
        "<ul>\n",
        "<li>MAE (Mean Absolute Error): It represents the differences the average of the absolute difference betweeen the actual and predicted values in the dataset</li>\n",
        "<li>MSE (Mean Square Error): It represents the average of the squared difference between original and predicted values in the dataset.</li> \n",
        "<li>RMSE (Root Mean Square Error): It is the square root of mean square error i.e., it measures the standard deviation of residuals</li>\n",
        "</ul>\n",
        "\n",
        "**Examples:**"
      ],
      "metadata": {
        "id": "8Mfi6FVWGxbj"
      }
    },
    {
      "cell_type": "code",
      "source": [
        "# MAE(Mean Absolute Error):\n",
        "# 1/N E(i=1 to N) |y(i) - ^y|\n",
        "\n",
        "print(\"Mean Absolute Error (MAE), value: \", mean_absolute_error(df['Height'], df['ShoeSize']))"
      ],
      "metadata": {
        "colab": {
          "base_uri": "https://localhost:8080/"
        },
        "id": "hkbU4MVFAiGP",
        "outputId": "b5165e8b-0d17-43e4-f3de-d0bca97c7310"
      },
      "execution_count": 10,
      "outputs": [
        {
          "output_type": "stream",
          "name": "stdout",
          "text": [
            "Mean Absolute Error (MAE), value:  131.45\n"
          ]
        }
      ]
    },
    {
      "cell_type": "code",
      "source": [
        "# MSE(Mean Square Error):\n",
        "# 1/N E(i=1 to N) (y(i) - ^y)**2\n",
        "\n",
        "print(\"Mean Squared Error (MSE), value: \", mean_squared_error(df['Height'], df['ShoeSize']))"
      ],
      "metadata": {
        "colab": {
          "base_uri": "https://localhost:8080/"
        },
        "id": "uuMqqrwsO_P9",
        "outputId": "2539d344-8767-4423-8c3a-e9b3b9888188"
      },
      "execution_count": 11,
      "outputs": [
        {
          "output_type": "stream",
          "name": "stdout",
          "text": [
            "Mean Squared Error (MSE), value:  17288.125\n"
          ]
        }
      ]
    },
    {
      "cell_type": "code",
      "source": [
        "# RMSE(Root Mean Square Error):\n",
        "# Square root (1/N E(i=1 to N) (y(i) - ^y)**2)\n",
        "MSE = mean_squared_error(df['Height'], df['ShoeSize'])\n",
        "print(\"Root Mean Squared Error (RMSE), value: \", math.sqrt(MSE))"
      ],
      "metadata": {
        "colab": {
          "base_uri": "https://localhost:8080/"
        },
        "id": "6z9g0z1ZPda0",
        "outputId": "7af1e005-4d91-4814-dccd-38b1472500c2"
      },
      "execution_count": 12,
      "outputs": [
        {
          "output_type": "stream",
          "name": "stdout",
          "text": [
            "Root Mean Squared Error (RMSE), value:  131.48431465387802\n"
          ]
        }
      ]
    },
    {
      "cell_type": "markdown",
      "source": [
        "\n",
        "\n",
        "---\n",
        "\n"
      ],
      "metadata": {
        "id": "0rCisCXzQWPR"
      }
    },
    {
      "cell_type": "markdown",
      "source": [
        "**Explain how `Gradient Descent` works in `Linear Regression`** ?\n",
        "\n",
        "Ans.\n",
        "\n",
        "**Simple definition:** A grident simply measures the change in all weights with regard to the change in error ie., gradient as the slope of a function. \n",
        "\n",
        "The higher gradient, the steeper the slope and the faster a model can learn. But if the slope is zero, the model stops learning\n",
        "\n",
        "**Gradient descent used to optimze the following:**\n",
        "<ul>\n",
        "<li><b>Linear Regression:</b> Optimizing interpect and slope</li>\n",
        "<li><b>Logistic regression:</b> Optimizing the squiggle</li>\n",
        "<li><b>t-sne:</b> Optimizing a cluster</li>\n",
        "</ul>"
      ],
      "metadata": {
        "id": "GCGo4WKOU6oH"
      }
    },
    {
      "cell_type": "code",
      "source": [
        "# Example:\n",
        "# Basic formula:\n",
        "# ^y = mx + b\n",
        "# loss = (y - ^y) ** 2 /N\n",
        "\n",
        "numvals = 50\n",
        "\n",
        "# initial values of slope and intercept\n",
        "m, b = 0, 0 \n",
        "\n",
        "# initial learning rate is 0.01\n",
        "learning_rate = 0.01\n",
        "\n",
        "x = np.sort( 5 * (np.random.random(numvals) - 0.5))\n",
        "y = w * (x + x**2) + np.random.normal(0, 0.1, numvals)\n",
        "\n",
        "print('X coordinates', x)\n",
        "print('y coordinates', y)"
      ],
      "metadata": {
        "id": "6Hy9ae9WQL4l",
        "colab": {
          "base_uri": "https://localhost:8080/"
        },
        "outputId": "5b7497d2-8022-4ab7-e984-a8ff9f39ce47"
      },
      "execution_count": 41,
      "outputs": [
        {
          "output_type": "stream",
          "name": "stdout",
          "text": [
            "X coordinates [-2.42762553 -2.12333046 -2.08845191 -2.07467014 -2.07037784 -1.94919672\n",
            " -1.8731352  -1.55046668 -1.36035126 -1.29891549 -1.2628666  -1.2137046\n",
            " -1.04217106 -1.02307476 -0.93647488 -0.82466348 -0.80736693 -0.79815056\n",
            " -0.63186853 -0.4421531  -0.43036788 -0.42141995 -0.33421099 -0.06613712\n",
            "  0.19389849  0.2290804   0.31323032  0.50789565  0.50941377  0.59877357\n",
            "  0.61233613  0.62976403  0.99144864  0.99214614  1.09602753  1.27049395\n",
            "  1.54802706  1.73934376  1.77630804  1.88291081  1.89524184  1.94561474\n",
            "  1.95509858  2.0091827   2.27455716  2.27623994  2.31468997  2.32858835\n",
            "  2.39747781  2.48165976]\n",
            "y coordinates [ 1.7804138   1.20005757  1.07843562  1.14950644  1.01555784  0.8834136\n",
            "  0.82920046  0.39357633  0.12912198  0.4051091   0.15830918  0.14477308\n",
            "  0.12651487  0.0638972   0.12484289 -0.1207092   0.02703247 -0.12851859\n",
            " -0.24673724 -0.01383041 -0.14285991 -0.16367511 -0.07358105 -0.03500178\n",
            "  0.04350097  0.17904849  0.25698312  0.28254385  0.34357351  0.57909133\n",
            "  0.67358818  0.40670508  0.92291769  0.8794482   1.24219261  1.38207991\n",
            "  1.97155073  2.40589152  2.49666631  2.65251747  2.78094505  2.88176161\n",
            "  2.8730119   3.02636479  3.73142407  3.60344682  3.90499906  3.92047787\n",
            "  4.0208667   4.29281685]\n"
          ]
        }
      ]
    },
    {
      "cell_type": "code",
      "source": [
        "# Plotting scatter graph\n",
        "\n",
        "plt.figure(figsize=(7, 7))\n",
        "plt.scatter(x, y)\n",
        "plt.xlabel('x', fontsize=20)\n",
        "plt.ylabel('y', fontsize=20)\n",
        "plt.title('Data', fontsize=25)"
      ],
      "metadata": {
        "colab": {
          "base_uri": "https://localhost:8080/",
          "height": 493
        },
        "id": "1xzbM8qw6rPb",
        "outputId": "a0e6099a-2635-4309-ea65-87e5f116e3bf"
      },
      "execution_count": 42,
      "outputs": [
        {
          "output_type": "execute_result",
          "data": {
            "text/plain": [
              "Text(0.5, 1.0, 'Data')"
            ]
          },
          "metadata": {},
          "execution_count": 42
        },
        {
          "output_type": "display_data",
          "data": {
            "text/plain": [
              "<Figure size 504x504 with 1 Axes>"
            ],
            "image/png": "[encoded data removed]"
          },
          "metadata": {
            "needs_background": "light"
          }
        }
      ]
    },
    {
      "cell_type": "code",
      "source": [
        "# basic gradient descent functional approach\n",
        "\n",
        "def descend(x, y, m, b, learning_rate): \n",
        "    dldw = 0.0 \n",
        "    dldb = 0.0 \n",
        "    N = x.shape[0]\n",
        "    # loss = (y-(wx+b)))**2\n",
        "    for xi, yi in zip(x,y): \n",
        "       dldw += -2*xi*(yi-(m*xi+b))\n",
        "       dldb += -2*(yi-(m*xi+b))\n",
        "    \n",
        "    # Make an update to the w parameter \n",
        "    m = m - learning_rate*(1/N)*dldw\n",
        "    b = b - learning_rate*(1/N)*dldb\n",
        "    return m, b\n"
      ],
      "metadata": {
        "id": "0Wfaq70z7Wba"
      },
      "execution_count": 48,
      "outputs": []
    },
    {
      "cell_type": "code",
      "source": [
        "# Iteratively make updates\n",
        "for epoch in range(200): \n",
        "    m, b = descend(x,y,m,b,learning_rate)\n",
        "    yhat = m*x + b\n",
        "    loss = np.divide(np.sum((y-yhat)**2, axis=0), x.shape[0]) \n",
        "    print(f'{epoch} loss is {loss}, paramters m:{m}, b:{b}')"
      ],
      "metadata": {
        "colab": {
          "base_uri": "https://localhost:8080/"
        },
        "id": "ABwmZvYV_WOt",
        "outputId": "62ea807f-3c01-4274-a06d-c4ef70026a55"
      },
      "execution_count": 49,
      "outputs": [
        {
          "output_type": "stream",
          "name": "stdout",
          "text": [
            "0 loss is 0.8868453559536975, paramters m:0.6549335408152704, b:1.1056858183977485\n",
            "1 loss is 0.8868453559536975, paramters m:0.6549335408152704, b:1.1056858183977485\n",
            "2 loss is 0.8868453559536975, paramters m:0.6549335408152704, b:1.1056858183977485\n",
            "3 loss is 0.8868453559536975, paramters m:0.6549335408152704, b:1.1056858183977485\n",
            "4 loss is 0.8868453559536975, paramters m:0.6549335408152704, b:1.1056858183977485\n",
            "5 loss is 0.8868453559536975, paramters m:0.6549335408152704, b:1.1056858183977485\n",
            "6 loss is 0.8868453559536975, paramters m:0.6549335408152704, b:1.1056858183977485\n",
            "7 loss is 0.8868453559536975, paramters m:0.6549335408152704, b:1.1056858183977485\n",
            "8 loss is 0.8868453559536975, paramters m:0.6549335408152704, b:1.1056858183977485\n",
            "9 loss is 0.8868453559536975, paramters m:0.6549335408152704, b:1.1056858183977485\n",
            "10 loss is 0.8868453559536975, paramters m:0.6549335408152704, b:1.1056858183977485\n",
            "11 loss is 0.8868453559536975, paramters m:0.6549335408152704, b:1.1056858183977485\n",
            "12 loss is 0.8868453559536975, paramters m:0.6549335408152704, b:1.1056858183977485\n",
            "13 loss is 0.8868453559536975, paramters m:0.6549335408152704, b:1.1056858183977485\n",
            "14 loss is 0.8868453559536975, paramters m:0.6549335408152704, b:1.1056858183977485\n",
            "15 loss is 0.8868453559536975, paramters m:0.6549335408152704, b:1.1056858183977485\n",
            "16 loss is 0.8868453559536975, paramters m:0.6549335408152704, b:1.1056858183977485\n",
            "17 loss is 0.8868453559536975, paramters m:0.6549335408152704, b:1.1056858183977485\n",
            "18 loss is 0.8868453559536975, paramters m:0.6549335408152704, b:1.1056858183977485\n",
            "19 loss is 0.8868453559536975, paramters m:0.6549335408152704, b:1.1056858183977485\n",
            "20 loss is 0.8868453559536975, paramters m:0.6549335408152704, b:1.1056858183977485\n",
            "21 loss is 0.8868453559536975, paramters m:0.6549335408152704, b:1.1056858183977485\n",
            "22 loss is 0.8868453559536975, paramters m:0.6549335408152704, b:1.1056858183977485\n",
            "23 loss is 0.8868453559536975, paramters m:0.6549335408152704, b:1.1056858183977485\n",
            "24 loss is 0.8868453559536975, paramters m:0.6549335408152704, b:1.1056858183977485\n",
            "25 loss is 0.8868453559536975, paramters m:0.6549335408152704, b:1.1056858183977485\n",
            "26 loss is 0.8868453559536975, paramters m:0.6549335408152704, b:1.1056858183977485\n",
            "27 loss is 0.8868453559536975, paramters m:0.6549335408152704, b:1.1056858183977485\n",
            "28 loss is 0.8868453559536975, paramters m:0.6549335408152704, b:1.1056858183977485\n",
            "29 loss is 0.8868453559536975, paramters m:0.6549335408152704, b:1.1056858183977485\n",
            "30 loss is 0.8868453559536975, paramters m:0.6549335408152704, b:1.1056858183977485\n",
            "31 loss is 0.8868453559536975, paramters m:0.6549335408152704, b:1.1056858183977485\n",
            "32 loss is 0.8868453559536975, paramters m:0.6549335408152704, b:1.1056858183977485\n",
            "33 loss is 0.8868453559536975, paramters m:0.6549335408152704, b:1.1056858183977485\n",
            "34 loss is 0.8868453559536975, paramters m:0.6549335408152704, b:1.1056858183977485\n",
            "35 loss is 0.8868453559536975, paramters m:0.6549335408152704, b:1.1056858183977485\n",
            "36 loss is 0.8868453559536975, paramters m:0.6549335408152704, b:1.1056858183977485\n",
            "37 loss is 0.8868453559536975, paramters m:0.6549335408152704, b:1.1056858183977485\n",
            "38 loss is 0.8868453559536975, paramters m:0.6549335408152704, b:1.1056858183977485\n",
            "39 loss is 0.8868453559536975, paramters m:0.6549335408152704, b:1.1056858183977485\n",
            "40 loss is 0.8868453559536975, paramters m:0.6549335408152704, b:1.1056858183977485\n",
            "41 loss is 0.8868453559536975, paramters m:0.6549335408152704, b:1.1056858183977485\n",
            "42 loss is 0.8868453559536975, paramters m:0.6549335408152704, b:1.1056858183977485\n",
            "43 loss is 0.8868453559536975, paramters m:0.6549335408152704, b:1.1056858183977485\n",
            "44 loss is 0.8868453559536975, paramters m:0.6549335408152704, b:1.1056858183977485\n",
            "45 loss is 0.8868453559536975, paramters m:0.6549335408152704, b:1.1056858183977485\n",
            "46 loss is 0.8868453559536975, paramters m:0.6549335408152704, b:1.1056858183977485\n",
            "47 loss is 0.8868453559536975, paramters m:0.6549335408152704, b:1.1056858183977485\n",
            "48 loss is 0.8868453559536975, paramters m:0.6549335408152704, b:1.1056858183977485\n",
            "49 loss is 0.8868453559536975, paramters m:0.6549335408152704, b:1.1056858183977485\n",
            "50 loss is 0.8868453559536975, paramters m:0.6549335408152704, b:1.1056858183977485\n",
            "51 loss is 0.8868453559536975, paramters m:0.6549335408152704, b:1.1056858183977485\n",
            "52 loss is 0.8868453559536975, paramters m:0.6549335408152704, b:1.1056858183977485\n",
            "53 loss is 0.8868453559536975, paramters m:0.6549335408152704, b:1.1056858183977485\n",
            "54 loss is 0.8868453559536975, paramters m:0.6549335408152704, b:1.1056858183977485\n",
            "55 loss is 0.8868453559536975, paramters m:0.6549335408152704, b:1.1056858183977485\n",
            "56 loss is 0.8868453559536975, paramters m:0.6549335408152704, b:1.1056858183977485\n",
            "57 loss is 0.8868453559536975, paramters m:0.6549335408152704, b:1.1056858183977485\n",
            "58 loss is 0.8868453559536975, paramters m:0.6549335408152704, b:1.1056858183977485\n",
            "59 loss is 0.8868453559536975, paramters m:0.6549335408152704, b:1.1056858183977485\n",
            "60 loss is 0.8868453559536975, paramters m:0.6549335408152704, b:1.1056858183977485\n",
            "61 loss is 0.8868453559536975, paramters m:0.6549335408152704, b:1.1056858183977485\n",
            "62 loss is 0.8868453559536975, paramters m:0.6549335408152704, b:1.1056858183977485\n",
            "63 loss is 0.8868453559536975, paramters m:0.6549335408152704, b:1.1056858183977485\n",
            "64 loss is 0.8868453559536975, paramters m:0.6549335408152704, b:1.1056858183977485\n",
            "65 loss is 0.8868453559536975, paramters m:0.6549335408152704, b:1.1056858183977485\n",
            "66 loss is 0.8868453559536975, paramters m:0.6549335408152704, b:1.1056858183977485\n",
            "67 loss is 0.8868453559536975, paramters m:0.6549335408152704, b:1.1056858183977485\n",
            "68 loss is 0.8868453559536975, paramters m:0.6549335408152704, b:1.1056858183977485\n",
            "69 loss is 0.8868453559536975, paramters m:0.6549335408152704, b:1.1056858183977485\n",
            "70 loss is 0.8868453559536975, paramters m:0.6549335408152704, b:1.1056858183977485\n",
            "71 loss is 0.8868453559536975, paramters m:0.6549335408152704, b:1.1056858183977485\n",
            "72 loss is 0.8868453559536975, paramters m:0.6549335408152704, b:1.1056858183977485\n",
            "73 loss is 0.8868453559536975, paramters m:0.6549335408152704, b:1.1056858183977485\n",
            "74 loss is 0.8868453559536975, paramters m:0.6549335408152704, b:1.1056858183977485\n",
            "75 loss is 0.8868453559536975, paramters m:0.6549335408152704, b:1.1056858183977485\n",
            "76 loss is 0.8868453559536975, paramters m:0.6549335408152704, b:1.1056858183977485\n",
            "77 loss is 0.8868453559536975, paramters m:0.6549335408152704, b:1.1056858183977485\n",
            "78 loss is 0.8868453559536975, paramters m:0.6549335408152704, b:1.1056858183977485\n",
            "79 loss is 0.8868453559536975, paramters m:0.6549335408152704, b:1.1056858183977485\n",
            "80 loss is 0.8868453559536975, paramters m:0.6549335408152704, b:1.1056858183977485\n",
            "81 loss is 0.8868453559536975, paramters m:0.6549335408152704, b:1.1056858183977485\n",
            "82 loss is 0.8868453559536975, paramters m:0.6549335408152704, b:1.1056858183977485\n",
            "83 loss is 0.8868453559536975, paramters m:0.6549335408152704, b:1.1056858183977485\n",
            "84 loss is 0.8868453559536975, paramters m:0.6549335408152704, b:1.1056858183977485\n",
            "85 loss is 0.8868453559536975, paramters m:0.6549335408152704, b:1.1056858183977485\n",
            "86 loss is 0.8868453559536975, paramters m:0.6549335408152704, b:1.1056858183977485\n",
            "87 loss is 0.8868453559536975, paramters m:0.6549335408152704, b:1.1056858183977485\n",
            "88 loss is 0.8868453559536975, paramters m:0.6549335408152704, b:1.1056858183977485\n",
            "89 loss is 0.8868453559536975, paramters m:0.6549335408152704, b:1.1056858183977485\n",
            "90 loss is 0.8868453559536975, paramters m:0.6549335408152704, b:1.1056858183977485\n",
            "91 loss is 0.8868453559536975, paramters m:0.6549335408152704, b:1.1056858183977485\n",
            "92 loss is 0.8868453559536975, paramters m:0.6549335408152704, b:1.1056858183977485\n",
            "93 loss is 0.8868453559536975, paramters m:0.6549335408152704, b:1.1056858183977485\n",
            "94 loss is 0.8868453559536975, paramters m:0.6549335408152704, b:1.1056858183977485\n",
            "95 loss is 0.8868453559536975, paramters m:0.6549335408152704, b:1.1056858183977485\n",
            "96 loss is 0.8868453559536975, paramters m:0.6549335408152704, b:1.1056858183977485\n",
            "97 loss is 0.8868453559536975, paramters m:0.6549335408152704, b:1.1056858183977485\n",
            "98 loss is 0.8868453559536975, paramters m:0.6549335408152704, b:1.1056858183977485\n",
            "99 loss is 0.8868453559536975, paramters m:0.6549335408152704, b:1.1056858183977485\n",
            "100 loss is 0.8868453559536975, paramters m:0.6549335408152704, b:1.1056858183977485\n",
            "101 loss is 0.8868453559536975, paramters m:0.6549335408152704, b:1.1056858183977485\n",
            "102 loss is 0.8868453559536975, paramters m:0.6549335408152704, b:1.1056858183977485\n",
            "103 loss is 0.8868453559536975, paramters m:0.6549335408152704, b:1.1056858183977485\n",
            "104 loss is 0.8868453559536975, paramters m:0.6549335408152704, b:1.1056858183977485\n",
            "105 loss is 0.8868453559536975, paramters m:0.6549335408152704, b:1.1056858183977485\n",
            "106 loss is 0.8868453559536975, paramters m:0.6549335408152704, b:1.1056858183977485\n",
            "107 loss is 0.8868453559536975, paramters m:0.6549335408152704, b:1.1056858183977485\n",
            "108 loss is 0.8868453559536975, paramters m:0.6549335408152704, b:1.1056858183977485\n",
            "109 loss is 0.8868453559536975, paramters m:0.6549335408152704, b:1.1056858183977485\n",
            "110 loss is 0.8868453559536975, paramters m:0.6549335408152704, b:1.1056858183977485\n",
            "111 loss is 0.8868453559536975, paramters m:0.6549335408152704, b:1.1056858183977485\n",
            "112 loss is 0.8868453559536975, paramters m:0.6549335408152704, b:1.1056858183977485\n",
            "113 loss is 0.8868453559536975, paramters m:0.6549335408152704, b:1.1056858183977485\n",
            "114 loss is 0.8868453559536975, paramters m:0.6549335408152704, b:1.1056858183977485\n",
            "115 loss is 0.8868453559536975, paramters m:0.6549335408152704, b:1.1056858183977485\n",
            "116 loss is 0.8868453559536975, paramters m:0.6549335408152704, b:1.1056858183977485\n",
            "117 loss is 0.8868453559536975, paramters m:0.6549335408152704, b:1.1056858183977485\n",
            "118 loss is 0.8868453559536975, paramters m:0.6549335408152704, b:1.1056858183977485\n",
            "119 loss is 0.8868453559536975, paramters m:0.6549335408152704, b:1.1056858183977485\n",
            "120 loss is 0.8868453559536975, paramters m:0.6549335408152704, b:1.1056858183977485\n",
            "121 loss is 0.8868453559536975, paramters m:0.6549335408152704, b:1.1056858183977485\n",
            "122 loss is 0.8868453559536975, paramters m:0.6549335408152704, b:1.1056858183977485\n",
            "123 loss is 0.8868453559536975, paramters m:0.6549335408152704, b:1.1056858183977485\n",
            "124 loss is 0.8868453559536975, paramters m:0.6549335408152704, b:1.1056858183977485\n",
            "125 loss is 0.8868453559536975, paramters m:0.6549335408152704, b:1.1056858183977485\n",
            "126 loss is 0.8868453559536975, paramters m:0.6549335408152704, b:1.1056858183977485\n",
            "127 loss is 0.8868453559536975, paramters m:0.6549335408152704, b:1.1056858183977485\n",
            "128 loss is 0.8868453559536975, paramters m:0.6549335408152704, b:1.1056858183977485\n",
            "129 loss is 0.8868453559536975, paramters m:0.6549335408152704, b:1.1056858183977485\n",
            "130 loss is 0.8868453559536975, paramters m:0.6549335408152704, b:1.1056858183977485\n",
            "131 loss is 0.8868453559536975, paramters m:0.6549335408152704, b:1.1056858183977485\n",
            "132 loss is 0.8868453559536975, paramters m:0.6549335408152704, b:1.1056858183977485\n",
            "133 loss is 0.8868453559536975, paramters m:0.6549335408152704, b:1.1056858183977485\n",
            "134 loss is 0.8868453559536975, paramters m:0.6549335408152704, b:1.1056858183977485\n",
            "135 loss is 0.8868453559536975, paramters m:0.6549335408152704, b:1.1056858183977485\n",
            "136 loss is 0.8868453559536975, paramters m:0.6549335408152704, b:1.1056858183977485\n",
            "137 loss is 0.8868453559536975, paramters m:0.6549335408152704, b:1.1056858183977485\n",
            "138 loss is 0.8868453559536975, paramters m:0.6549335408152704, b:1.1056858183977485\n",
            "139 loss is 0.8868453559536975, paramters m:0.6549335408152704, b:1.1056858183977485\n",
            "140 loss is 0.8868453559536975, paramters m:0.6549335408152704, b:1.1056858183977485\n",
            "141 loss is 0.8868453559536975, paramters m:0.6549335408152704, b:1.1056858183977485\n",
            "142 loss is 0.8868453559536975, paramters m:0.6549335408152704, b:1.1056858183977485\n",
            "143 loss is 0.8868453559536975, paramters m:0.6549335408152704, b:1.1056858183977485\n",
            "144 loss is 0.8868453559536975, paramters m:0.6549335408152704, b:1.1056858183977485\n",
            "145 loss is 0.8868453559536975, paramters m:0.6549335408152704, b:1.1056858183977485\n",
            "146 loss is 0.8868453559536975, paramters m:0.6549335408152704, b:1.1056858183977485\n",
            "147 loss is 0.8868453559536975, paramters m:0.6549335408152704, b:1.1056858183977485\n",
            "148 loss is 0.8868453559536975, paramters m:0.6549335408152704, b:1.1056858183977485\n",
            "149 loss is 0.8868453559536975, paramters m:0.6549335408152704, b:1.1056858183977485\n",
            "150 loss is 0.8868453559536975, paramters m:0.6549335408152704, b:1.1056858183977485\n",
            "151 loss is 0.8868453559536975, paramters m:0.6549335408152704, b:1.1056858183977485\n",
            "152 loss is 0.8868453559536975, paramters m:0.6549335408152704, b:1.1056858183977485\n",
            "153 loss is 0.8868453559536975, paramters m:0.6549335408152704, b:1.1056858183977485\n",
            "154 loss is 0.8868453559536975, paramters m:0.6549335408152704, b:1.1056858183977485\n",
            "155 loss is 0.8868453559536975, paramters m:0.6549335408152704, b:1.1056858183977485\n",
            "156 loss is 0.8868453559536975, paramters m:0.6549335408152704, b:1.1056858183977485\n",
            "157 loss is 0.8868453559536975, paramters m:0.6549335408152704, b:1.1056858183977485\n",
            "158 loss is 0.8868453559536975, paramters m:0.6549335408152704, b:1.1056858183977485\n",
            "159 loss is 0.8868453559536975, paramters m:0.6549335408152704, b:1.1056858183977485\n",
            "160 loss is 0.8868453559536975, paramters m:0.6549335408152704, b:1.1056858183977485\n",
            "161 loss is 0.8868453559536975, paramters m:0.6549335408152704, b:1.1056858183977485\n",
            "162 loss is 0.8868453559536975, paramters m:0.6549335408152704, b:1.1056858183977485\n",
            "163 loss is 0.8868453559536975, paramters m:0.6549335408152704, b:1.1056858183977485\n",
            "164 loss is 0.8868453559536975, paramters m:0.6549335408152704, b:1.1056858183977485\n",
            "165 loss is 0.8868453559536975, paramters m:0.6549335408152704, b:1.1056858183977485\n",
            "166 loss is 0.8868453559536975, paramters m:0.6549335408152704, b:1.1056858183977485\n",
            "167 loss is 0.8868453559536975, paramters m:0.6549335408152704, b:1.1056858183977485\n",
            "168 loss is 0.8868453559536975, paramters m:0.6549335408152704, b:1.1056858183977485\n",
            "169 loss is 0.8868453559536975, paramters m:0.6549335408152704, b:1.1056858183977485\n",
            "170 loss is 0.8868453559536975, paramters m:0.6549335408152704, b:1.1056858183977485\n",
            "171 loss is 0.8868453559536975, paramters m:0.6549335408152704, b:1.1056858183977485\n",
            "172 loss is 0.8868453559536975, paramters m:0.6549335408152704, b:1.1056858183977485\n",
            "173 loss is 0.8868453559536975, paramters m:0.6549335408152704, b:1.1056858183977485\n",
            "174 loss is 0.8868453559536975, paramters m:0.6549335408152704, b:1.1056858183977485\n",
            "175 loss is 0.8868453559536975, paramters m:0.6549335408152704, b:1.1056858183977485\n",
            "176 loss is 0.8868453559536975, paramters m:0.6549335408152704, b:1.1056858183977485\n",
            "177 loss is 0.8868453559536975, paramters m:0.6549335408152704, b:1.1056858183977485\n",
            "178 loss is 0.8868453559536975, paramters m:0.6549335408152704, b:1.1056858183977485\n",
            "179 loss is 0.8868453559536975, paramters m:0.6549335408152704, b:1.1056858183977485\n",
            "180 loss is 0.8868453559536975, paramters m:0.6549335408152704, b:1.1056858183977485\n",
            "181 loss is 0.8868453559536975, paramters m:0.6549335408152704, b:1.1056858183977485\n",
            "182 loss is 0.8868453559536975, paramters m:0.6549335408152704, b:1.1056858183977485\n",
            "183 loss is 0.8868453559536975, paramters m:0.6549335408152704, b:1.1056858183977485\n",
            "184 loss is 0.8868453559536975, paramters m:0.6549335408152704, b:1.1056858183977485\n",
            "185 loss is 0.8868453559536975, paramters m:0.6549335408152704, b:1.1056858183977485\n",
            "186 loss is 0.8868453559536975, paramters m:0.6549335408152704, b:1.1056858183977485\n",
            "187 loss is 0.8868453559536975, paramters m:0.6549335408152704, b:1.1056858183977485\n",
            "188 loss is 0.8868453559536975, paramters m:0.6549335408152704, b:1.1056858183977485\n",
            "189 loss is 0.8868453559536975, paramters m:0.6549335408152704, b:1.1056858183977485\n",
            "190 loss is 0.8868453559536975, paramters m:0.6549335408152704, b:1.1056858183977485\n",
            "191 loss is 0.8868453559536975, paramters m:0.6549335408152704, b:1.1056858183977485\n",
            "192 loss is 0.8868453559536975, paramters m:0.6549335408152704, b:1.1056858183977485\n",
            "193 loss is 0.8868453559536975, paramters m:0.6549335408152704, b:1.1056858183977485\n",
            "194 loss is 0.8868453559536975, paramters m:0.6549335408152704, b:1.1056858183977485\n",
            "195 loss is 0.8868453559536975, paramters m:0.6549335408152704, b:1.1056858183977485\n",
            "196 loss is 0.8868453559536975, paramters m:0.6549335408152704, b:1.1056858183977485\n",
            "197 loss is 0.8868453559536975, paramters m:0.6549335408152704, b:1.1056858183977485\n",
            "198 loss is 0.8868453559536975, paramters m:0.6549335408152704, b:1.1056858183977485\n",
            "199 loss is 0.8868453559536975, paramters m:0.6549335408152704, b:1.1056858183977485\n"
          ]
        }
      ]
    },
    {
      "cell_type": "markdown",
      "source": [
        "\n",
        "\n",
        "---\n"
      ],
      "metadata": {
        "id": "NYMxv3hCAj0P"
      }
    },
    {
      "cell_type": "markdown",
      "source": [
        "**Explain the term intercept?**\n",
        "\n",
        "Ans. The intercept (sometimes called the \"constant\")in a regression model represents the mean value of the response variable when all of the predictor variables in the model are equal to zero.\n",
        "\n",
        "Formula:\n",
        "\n",
        "**Simple linear regression: ŷ = β0 + β1(x)**\n",
        "\n",
        "\n",
        "<ul>\n",
        "<li>ŷ: The predicted value for the response variable</li>\n",
        "<li>β0: The mean value of the response variable when x = 0</li>\n",
        "<li>β1: The average change in the response variable for a one unit increase in x</li>\n",
        "<li>x: The value for the predictor variable</li>\n",
        "</ul>\n",
        "\n",
        "**Multiple Linear Regression: ŷ = β0 + β1(x1) + β2(x2) + β3(x3) + … + βk(xk)**\n",
        "<ul>\n",
        "<li>ŷ: The predicted value for the response variable</li>\n",
        "<li>β0: The mean value of the response variable when all predictor variables are zero</li>\n",
        "<li>βj: The average change in the response variable for a one unit increase in the jth predictor variable, assuming all other predictor variables are held constant</li>\n",
        "<li>xj: The value for the jth predictor variable</li>\n",
        "</ul>"
      ],
      "metadata": {
        "id": "PJdDBl8-BBBJ"
      }
    },
    {
      "cell_type": "markdown",
      "source": [
        "\n",
        "\n",
        "---\n",
        "\n"
      ],
      "metadata": {
        "id": "_2SiKcy3GsPE"
      }
    },
    {
      "cell_type": "markdown",
      "source": [
        "**Q. Write all the assumptions for linear regression?**\n",
        "\n",
        "Ans. \n",
        "<ul>\n",
        "<li>Linear relationship</li>\n",
        "<li>Independence</li>\n",
        "<li>Homoscedasticity</li>\n",
        "<li>Normality</li>\n",
        "</ul>\n",
        "\n",
        "\n",
        "**Linear relationship:** There exists a linear relationship between the independent variable, x, and the dependent variable, y.\n",
        "\n",
        "If assumption is voilated:\n",
        "<ul>\n",
        "<li>Apply a non-linear transformation to the independent and/or dependent variable. </li>\n",
        "<li>Add another independent variable to the model.</li>\n",
        "</ul>\n",
        "\n",
        "**Independence:** The residuals are independent. In particular there is no correlation between consecutive residuals in time series data.\n",
        "\n",
        "If assumption is voilated:\n",
        "<ul>\n",
        "<li>Positive serail correlation, consider adding lags of the dependent and/or independent variable to the model. Common examples include taking the log, the square root or the reciprocal of the independent and/or dependent variable</li>\n",
        "<li>Negative serail correlation, check to make sure that none of your variables are overdifferenced.</li>\n",
        "<li>Categorial correlation, consider adding categorial dummy variable to the model.</li>\n",
        "</ul>\n",
        "\n",
        "**Homoscedasticity:** The residuals have constant variance at every level of x.\n",
        "\n",
        "If assumption is voilated:\n",
        "<ul>\n",
        "<li>Transform the dependent variable</li>\n",
        "<li>Redefine the dependent variable</li>\n",
        "<li>Use weighted regression</li>\n",
        "</ul>\n",
        "\n",
        "**Normality:** The residuals of the model are normally distributed.\n",
        "\n",
        "If assumption is voilated:\n",
        "<ul>\n",
        "<li>Verify that any outliers aren't having a huge impact on the distribution.</li>\n",
        "<li>Make sure of no erroneous data</li>\n",
        "<li>Try applying a nonlinear transformation to the independent and/or dependent variable. Common example include taking the log, the square root, or the reciprocal of the independent and/or dependent variable.</li>\n",
        "</ul>"
      ],
      "metadata": {
        "id": "HP7D3Oo0GhwH"
      }
    },
    {
      "cell_type": "markdown",
      "source": [
        "\n",
        "\n",
        "---\n"
      ],
      "metadata": {
        "id": "PIJ1i33LOGsC"
      }
    },
    {
      "cell_type": "markdown",
      "source": [
        "**Q. Hypothesis testing in Linear Regression?**\n",
        "\n",
        "Ans. \n",
        "<ul>\n",
        "<li>By creating the linear regression model, we are establishing a new truth about the relationship between dependent variable with one or more independent variables.</li>\n",
        "<li>In order to justify the truth, there are needed one or more tests. These tests can be termed as an act of testing the truth using hypothesis testing</li>\n",
        "<li>T-test is used to verify the relationsip between the dependent and independent variables</li>\n",
        "<li>F-test is used to test the linear regression model</li>\n",
        "</ul>\n",
        "\n",
        "Steps to perform **Hypothesis tests & Linear Regression Models**\n",
        "\n",
        "<ul>\n",
        "<li>\n",
        "Formulate null and alternative hypothesis:\n",
        "<ul>\n",
        "<li><b>T-tests:</b> Thus, the null hypothesis is set that there is no relationship between independent variable and the predicted variable\n",
        "</li>\n",
        "<li><b>F-tests:</b> The null hypothesis is that the linear regression model doesnot exists.\n",
        "</li>\n",
        "</ul>\n",
        "</li>\n",
        "\n",
        "<li>\n",
        "Determine the test statistics:\n",
        "<ul>\n",
        "<li>T-test for hypotheses related to individual coefficients</li>\n",
        "<li>F-test for hypothesis for linear regression model</li>\n",
        "</ul>\n",
        "</li>\n",
        "\n",
        "<li>\n",
        "Make decision: Based on the values of t-statistics and f-statistics, the decision regarding the linear regression model is taken\n",
        "</li>\n",
        "\n",
        "<li>\n",
        "Draw conclusions.\n",
        "</li>\n",
        "\n",
        "</ul>"
      ],
      "metadata": {
        "id": "ZaxIIFFtOQw6"
      }
    },
    {
      "cell_type": "markdown",
      "source": [
        "\n",
        "\n",
        "---\n"
      ],
      "metadata": {
        "id": "tQA0uDpjSyUq"
      }
    },
    {
      "cell_type": "markdown",
      "source": [
        "**Q. How would you decide the importance of variable for the multivariant regression?**\n",
        "\n",
        "Ans. It is defined as a process of involving multiple dependent variables resulting in one outcome. \n",
        "\n",
        "The significance of multivariant analysis is helpful in effectively minimizing the bias.\n",
        "\n",
        "**Objective of multivariant analysis:**\n",
        "<ul>\n",
        "<li>Data reduction or structural simplification</li>\n",
        "<li>Sorting and grouping</li>\n",
        "<li>Investigation of dependence among variables</li>\n",
        "<li>Prediction relationship between variables</li>\n",
        "<li>Hypothesis construction and testing</li>\n",
        "</ul>\n",
        "\n",
        "**Some categories of multivariant analysis:**\n",
        "<ul>\n",
        "<li>Cluster analysis</li>\n",
        "<li>Multiple Logistic Regression</li>\n",
        "<li>Multivariate Analysis of Varaiance</li>\n",
        "</ul>\n",
        "\n",
        "**Model Assumptions:**\n",
        "Normality, Homoscedasticity, linearity and independence(the absence of correlated errors).\n",
        "\n",
        "<b>Example:</b> Based on the season we cannot predict the weather of any given year. Several factors play an important role in predicting the **weather**.\n",
        "\n",
        "\n",
        "**Drawbacks:**\n",
        "<ul>\n",
        "<li>This technique involve the use of complex statistical programs that are very expensive</li>\n",
        "</ul>"
      ],
      "metadata": {
        "id": "hzo_R7KzS4db"
      }
    },
    {
      "cell_type": "markdown",
      "source": [
        "\n",
        "\n",
        "---\n"
      ],
      "metadata": {
        "id": "IV7ZNEMEZRyO"
      }
    },
    {
      "cell_type": "markdown",
      "source": [
        "**Q. Difference between R-Square and Adjusted R-Square?**\n",
        "\n",
        "\n",
        "Ans: \n",
        "<ul>\n",
        "<li>R-Square: Residual Sum of Squares.</li>\n",
        "<li>Adjusted R-Square: Adjusted Residual Sum of Squares.</li>\n",
        "</ul>\n",
        "\n",
        "**R-Square:** It is a statistical measure that represents the proportion of the variance for a dependent variable that's explained by an independent variable or variables in a regression model.\n",
        "\n",
        "**Adjusted R-Squared:** It is a modified version of R-squared that has been adjusted for the number of predictors in the model.\n",
        "Adding more independent variables or predictors to a regression model tends to increase the R-squared value, which tempts markers of the model to add even more variables. This is called overfitting and can return an unwarranted high R-Squared value. Adjusted R-squared is used to determine how reliable the correlation is and how much it is determined by the addition of independent variables \n",
        "\n",
        "**Formula:**\n",
        "\n",
        "R Square(Coefficient of determination): \n",
        "\n",
        "1 - (Sum of squares of residuals/total sum of square)\n",
        "\n",
        "<b>Sum of Squares of Residuals(RSS): E(i=1 to n) (y(i) - f(x(i)))**2</b>\n",
        "<ul>\n",
        "<li>y(i): i^th value of the variable to be predicted</li>\n",
        "<li>f(x(i)): predicted value of y(i)</li>\n",
        "<li>n: number of observations</li>\n",
        "</ul>\n",
        "\n",
        "<b>Total Sum of Square(TSS): E(i=1 to n) (y(i) - ^y)**2</b>\n",
        "<ul>\n",
        "<li>n: number of observations</li>\n",
        "<li>y(i): value in a sample</li>\n",
        "<li>^y: mean value of a sample</li>\n",
        "</ul>\n",
        "\n",
        "<b>Adjust R Square: 1-( (1-R**2)(N-1)/(N-K-1) )</b>\n",
        "\n",
        "R**2 is the actual r square value\n",
        "\n",
        "N: Number of data points\n",
        "\n",
        "K: Indepenedent variable\n",
        "\n",
        "**R-Squared Vs Adjusted R-Squared**\n",
        "\n",
        "The Adjusted R-Squared considers and tests different independent variables against the model, where as R-Squared not."
      ],
      "metadata": {
        "id": "SSOB0ndGYDOq"
      }
    },
    {
      "cell_type": "code",
      "source": [],
      "metadata": {
        "id": "1y9Qhpi7gutq"
      },
      "execution_count": null,
      "outputs": []
    }
  ]
}